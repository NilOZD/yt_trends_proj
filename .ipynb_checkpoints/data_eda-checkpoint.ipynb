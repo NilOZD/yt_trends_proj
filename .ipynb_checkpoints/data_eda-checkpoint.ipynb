{
 "cells": [
  {
   "cell_type": "code",
   "execution_count": 2,
   "id": "4402fc5c",
   "metadata": {},
   "outputs": [],
   "source": [
    "import pandas as pd\n",
    "import matplotlib.pyplot as plt\n",
    "import seaborn as sns"
   ]
  },
  {
   "cell_type": "code",
   "execution_count": 3,
   "id": "e13c998a",
   "metadata": {},
   "outputs": [],
   "source": [
    "df = pd.read_csv(\"output/yttrendvids_cleaned_data.csv\")"
   ]
  },
  {
   "cell_type": "code",
   "execution_count": 4,
   "id": "0bb532f3",
   "metadata": {},
   "outputs": [
    {
     "data": {
      "text/html": [
       "<div>\n",
       "<style scoped>\n",
       "    .dataframe tbody tr th:only-of-type {\n",
       "        vertical-align: middle;\n",
       "    }\n",
       "\n",
       "    .dataframe tbody tr th {\n",
       "        vertical-align: top;\n",
       "    }\n",
       "\n",
       "    .dataframe thead th {\n",
       "        text-align: right;\n",
       "    }\n",
       "</style>\n",
       "<table border=\"1\" class=\"dataframe\">\n",
       "  <thead>\n",
       "    <tr style=\"text-align: right;\">\n",
       "      <th></th>\n",
       "      <th>title</th>\n",
       "      <th>channelTitle</th>\n",
       "      <th>categoryId</th>\n",
       "      <th>trending_date</th>\n",
       "      <th>tags</th>\n",
       "      <th>view_count</th>\n",
       "      <th>comment_count</th>\n",
       "      <th>comments_disabled</th>\n",
       "      <th>description</th>\n",
       "      <th>tag_count</th>\n",
       "      <th>title_length</th>\n",
       "      <th>title_uppercase</th>\n",
       "    </tr>\n",
       "  </thead>\n",
       "  <tbody>\n",
       "    <tr>\n",
       "      <th>0</th>\n",
       "      <td>Saucy Santana - Booty (Official Video) ft. Latto</td>\n",
       "      <td>SaucySantanaVEVO</td>\n",
       "      <td>10</td>\n",
       "      <td>22.20.07</td>\n",
       "      <td>saucy santana|latto|saucy santana booty|sauncy...</td>\n",
       "      <td>389872</td>\n",
       "      <td>2460</td>\n",
       "      <td>False</td>\n",
       "      <td>Saucy Santana - Booty feat. Latto (Official Vi...</td>\n",
       "      <td>31</td>\n",
       "      <td>48</td>\n",
       "      <td>6</td>\n",
       "    </tr>\n",
       "    <tr>\n",
       "      <th>1</th>\n",
       "      <td>Apex Legends Gaiden Event</td>\n",
       "      <td>Apex Legends</td>\n",
       "      <td>20</td>\n",
       "      <td>22.20.07</td>\n",
       "      <td>Apex Legends|apex|エーペックス|apex gaiden|Apex Lege...</td>\n",
       "      <td>1173635</td>\n",
       "      <td>5167</td>\n",
       "      <td>False</td>\n",
       "      <td>Begin your epic tale in the Apex Legends Gaide...</td>\n",
       "      <td>26</td>\n",
       "      <td>25</td>\n",
       "      <td>4</td>\n",
       "    </tr>\n",
       "    <tr>\n",
       "      <th>2</th>\n",
       "      <td>STAYC(스테이씨) 'BEAUTIFUL MONSTER' MV</td>\n",
       "      <td>STAYC</td>\n",
       "      <td>24</td>\n",
       "      <td>22.20.07</td>\n",
       "      <td>STAYC|스테이씨|수민|배수민|시은|박시은|아이사|이채영|채영|세은|윤세은|심자윤...</td>\n",
       "      <td>12608289</td>\n",
       "      <td>19335</td>\n",
       "      <td>False</td>\n",
       "      <td>STAYC(스테이씨)  The 3rd Single Album[WE NEED LOVE...</td>\n",
       "      <td>26</td>\n",
       "      <td>34</td>\n",
       "      <td>23</td>\n",
       "    </tr>\n",
       "    <tr>\n",
       "      <th>3</th>\n",
       "      <td>ATEEZ(에이티즈) – ‘Guerrilla’ Performance Preview</td>\n",
       "      <td>KQ ENTERTAINMENT</td>\n",
       "      <td>10</td>\n",
       "      <td>22.20.07</td>\n",
       "      <td>KQ|케이큐|에이티즈|ATEEZ|ATEEZ THE WORLD 시리즈|에이티즈 무브먼...</td>\n",
       "      <td>632146</td>\n",
       "      <td>14157</td>\n",
       "      <td>False</td>\n",
       "      <td>[THE WORLD EP.1 : MOVEMENT]Release Date: 2022....</td>\n",
       "      <td>49</td>\n",
       "      <td>45</td>\n",
       "      <td>8</td>\n",
       "    </tr>\n",
       "    <tr>\n",
       "      <th>4</th>\n",
       "      <td>What Happens When a Reservoir Goes Dry?</td>\n",
       "      <td>Practical Engineering</td>\n",
       "      <td>27</td>\n",
       "      <td>22.20.07</td>\n",
       "      <td>mega-drought|Lake Mead|water reservoir|Lake Po...</td>\n",
       "      <td>569779</td>\n",
       "      <td>1880</td>\n",
       "      <td>False</td>\n",
       "      <td>Reservoirs are a solution to the tremendous va...</td>\n",
       "      <td>13</td>\n",
       "      <td>39</td>\n",
       "      <td>6</td>\n",
       "    </tr>\n",
       "  </tbody>\n",
       "</table>\n",
       "</div>"
      ],
      "text/plain": [
       "                                              title           channelTitle  \\\n",
       "0  Saucy Santana - Booty (Official Video) ft. Latto       SaucySantanaVEVO   \n",
       "1                         Apex Legends Gaiden Event           Apex Legends   \n",
       "2                STAYC(스테이씨) 'BEAUTIFUL MONSTER' MV                  STAYC   \n",
       "3     ATEEZ(에이티즈) – ‘Guerrilla’ Performance Preview       KQ ENTERTAINMENT   \n",
       "4           What Happens When a Reservoir Goes Dry?  Practical Engineering   \n",
       "\n",
       "   categoryId trending_date  \\\n",
       "0          10      22.20.07   \n",
       "1          20      22.20.07   \n",
       "2          24      22.20.07   \n",
       "3          10      22.20.07   \n",
       "4          27      22.20.07   \n",
       "\n",
       "                                                tags  view_count  \\\n",
       "0  saucy santana|latto|saucy santana booty|sauncy...      389872   \n",
       "1  Apex Legends|apex|エーペックス|apex gaiden|Apex Lege...     1173635   \n",
       "2  STAYC|스테이씨|수민|배수민|시은|박시은|아이사|이채영|채영|세은|윤세은|심자윤...    12608289   \n",
       "3  KQ|케이큐|에이티즈|ATEEZ|ATEEZ THE WORLD 시리즈|에이티즈 무브먼...      632146   \n",
       "4  mega-drought|Lake Mead|water reservoir|Lake Po...      569779   \n",
       "\n",
       "   comment_count  comments_disabled  \\\n",
       "0           2460              False   \n",
       "1           5167              False   \n",
       "2          19335              False   \n",
       "3          14157              False   \n",
       "4           1880              False   \n",
       "\n",
       "                                         description  tag_count  title_length  \\\n",
       "0  Saucy Santana - Booty feat. Latto (Official Vi...         31            48   \n",
       "1  Begin your epic tale in the Apex Legends Gaide...         26            25   \n",
       "2  STAYC(스테이씨)  The 3rd Single Album[WE NEED LOVE...         26            34   \n",
       "3  [THE WORLD EP.1 : MOVEMENT]Release Date: 2022....         49            45   \n",
       "4  Reservoirs are a solution to the tremendous va...         13            39   \n",
       "\n",
       "   title_uppercase  \n",
       "0                6  \n",
       "1                4  \n",
       "2               23  \n",
       "3                8  \n",
       "4                6  "
      ]
     },
     "execution_count": 4,
     "metadata": {},
     "output_type": "execute_result"
    }
   ],
   "source": [
    "df.head()"
   ]
  },
  {
   "cell_type": "code",
   "execution_count": 5,
   "id": "423605dc",
   "metadata": {},
   "outputs": [
    {
     "data": {
      "text/plain": [
       "(200, 12)"
      ]
     },
     "execution_count": 5,
     "metadata": {},
     "output_type": "execute_result"
    }
   ],
   "source": [
    "df.shape"
   ]
  },
  {
   "cell_type": "code",
   "execution_count": 6,
   "id": "6282c7e0",
   "metadata": {},
   "outputs": [],
   "source": [
    "## video description length\n",
    "df[\"vid_desc_length\"] = df.description.apply(len)"
   ]
  },
  {
   "cell_type": "code",
   "execution_count": 7,
   "id": "0cc82205",
   "metadata": {},
   "outputs": [
    {
     "data": {
      "text/html": [
       "<div>\n",
       "<style scoped>\n",
       "    .dataframe tbody tr th:only-of-type {\n",
       "        vertical-align: middle;\n",
       "    }\n",
       "\n",
       "    .dataframe tbody tr th {\n",
       "        vertical-align: top;\n",
       "    }\n",
       "\n",
       "    .dataframe thead th {\n",
       "        text-align: right;\n",
       "    }\n",
       "</style>\n",
       "<table border=\"1\" class=\"dataframe\">\n",
       "  <thead>\n",
       "    <tr style=\"text-align: right;\">\n",
       "      <th></th>\n",
       "      <th>categoryId</th>\n",
       "      <th>view_count</th>\n",
       "      <th>comment_count</th>\n",
       "      <th>tag_count</th>\n",
       "      <th>title_length</th>\n",
       "      <th>title_uppercase</th>\n",
       "      <th>vid_desc_length</th>\n",
       "    </tr>\n",
       "  </thead>\n",
       "  <tbody>\n",
       "    <tr>\n",
       "      <th>count</th>\n",
       "      <td>200.000000</td>\n",
       "      <td>2.000000e+02</td>\n",
       "      <td>200.000000</td>\n",
       "      <td>200.000000</td>\n",
       "      <td>200.000000</td>\n",
       "      <td>200.000000</td>\n",
       "      <td>200.0000</td>\n",
       "    </tr>\n",
       "    <tr>\n",
       "      <th>mean</th>\n",
       "      <td>18.705000</td>\n",
       "      <td>1.707175e+06</td>\n",
       "      <td>9225.705000</td>\n",
       "      <td>16.370000</td>\n",
       "      <td>50.795000</td>\n",
       "      <td>12.200000</td>\n",
       "      <td>1046.4150</td>\n",
       "    </tr>\n",
       "    <tr>\n",
       "      <th>std</th>\n",
       "      <td>6.525403</td>\n",
       "      <td>5.072690e+06</td>\n",
       "      <td>42055.250659</td>\n",
       "      <td>12.345247</td>\n",
       "      <td>20.808362</td>\n",
       "      <td>11.189999</td>\n",
       "      <td>851.8704</td>\n",
       "    </tr>\n",
       "    <tr>\n",
       "      <th>min</th>\n",
       "      <td>1.000000</td>\n",
       "      <td>1.046800e+05</td>\n",
       "      <td>0.000000</td>\n",
       "      <td>0.000000</td>\n",
       "      <td>16.000000</td>\n",
       "      <td>0.000000</td>\n",
       "      <td>7.0000</td>\n",
       "    </tr>\n",
       "    <tr>\n",
       "      <th>25%</th>\n",
       "      <td>17.000000</td>\n",
       "      <td>3.201718e+05</td>\n",
       "      <td>978.000000</td>\n",
       "      <td>6.000000</td>\n",
       "      <td>34.000000</td>\n",
       "      <td>5.000000</td>\n",
       "      <td>452.7500</td>\n",
       "    </tr>\n",
       "    <tr>\n",
       "      <th>50%</th>\n",
       "      <td>20.000000</td>\n",
       "      <td>6.304565e+05</td>\n",
       "      <td>2228.500000</td>\n",
       "      <td>16.000000</td>\n",
       "      <td>46.000000</td>\n",
       "      <td>8.000000</td>\n",
       "      <td>799.0000</td>\n",
       "    </tr>\n",
       "    <tr>\n",
       "      <th>75%</th>\n",
       "      <td>24.000000</td>\n",
       "      <td>1.410537e+06</td>\n",
       "      <td>4232.750000</td>\n",
       "      <td>26.000000</td>\n",
       "      <td>65.000000</td>\n",
       "      <td>15.000000</td>\n",
       "      <td>1342.2500</td>\n",
       "    </tr>\n",
       "    <tr>\n",
       "      <th>max</th>\n",
       "      <td>28.000000</td>\n",
       "      <td>6.562873e+07</td>\n",
       "      <td>501446.000000</td>\n",
       "      <td>51.000000</td>\n",
       "      <td>100.000000</td>\n",
       "      <td>72.000000</td>\n",
       "      <td>4721.0000</td>\n",
       "    </tr>\n",
       "  </tbody>\n",
       "</table>\n",
       "</div>"
      ],
      "text/plain": [
       "       categoryId    view_count  comment_count   tag_count  title_length  \\\n",
       "count  200.000000  2.000000e+02     200.000000  200.000000    200.000000   \n",
       "mean    18.705000  1.707175e+06    9225.705000   16.370000     50.795000   \n",
       "std      6.525403  5.072690e+06   42055.250659   12.345247     20.808362   \n",
       "min      1.000000  1.046800e+05       0.000000    0.000000     16.000000   \n",
       "25%     17.000000  3.201718e+05     978.000000    6.000000     34.000000   \n",
       "50%     20.000000  6.304565e+05    2228.500000   16.000000     46.000000   \n",
       "75%     24.000000  1.410537e+06    4232.750000   26.000000     65.000000   \n",
       "max     28.000000  6.562873e+07  501446.000000   51.000000    100.000000   \n",
       "\n",
       "       title_uppercase  vid_desc_length  \n",
       "count       200.000000         200.0000  \n",
       "mean         12.200000        1046.4150  \n",
       "std          11.189999         851.8704  \n",
       "min           0.000000           7.0000  \n",
       "25%           5.000000         452.7500  \n",
       "50%           8.000000         799.0000  \n",
       "75%          15.000000        1342.2500  \n",
       "max          72.000000        4721.0000  "
      ]
     },
     "execution_count": 7,
     "metadata": {},
     "output_type": "execute_result"
    }
   ],
   "source": [
    "df.describe()"
   ]
  },
  {
   "cell_type": "code",
   "execution_count": 8,
   "id": "f5cb30bc",
   "metadata": {},
   "outputs": [
    {
     "data": {
      "text/plain": [
       "20    47\n",
       "24    33\n",
       "10    29\n",
       "17    26\n",
       "22    19\n",
       "23     8\n",
       "25     8\n",
       "2      7\n",
       "27     6\n",
       "1      5\n",
       "28     5\n",
       "19     4\n",
       "26     3\n",
       "Name: categoryId, dtype: int64"
      ]
     },
     "execution_count": 8,
     "metadata": {},
     "output_type": "execute_result"
    }
   ],
   "source": [
    "df.categoryId.value_counts()"
   ]
  },
  {
   "cell_type": "code",
   "execution_count": 9,
   "id": "aa336696",
   "metadata": {},
   "outputs": [
    {
     "data": {
      "text/plain": [
       "Index(['title', 'channelTitle', 'categoryId', 'trending_date', 'tags',\n",
       "       'view_count', 'comment_count', 'comments_disabled', 'description',\n",
       "       'tag_count', 'title_length', 'title_uppercase', 'vid_desc_length'],\n",
       "      dtype='object')"
      ]
     },
     "execution_count": 9,
     "metadata": {},
     "output_type": "execute_result"
    }
   ],
   "source": [
    "df.columns"
   ]
  },
  {
   "cell_type": "code",
   "execution_count": 10,
   "id": "bfce8ef0",
   "metadata": {},
   "outputs": [
    {
     "data": {
      "text/plain": [
       "<AxesSubplot:>"
      ]
     },
     "execution_count": 10,
     "metadata": {},
     "output_type": "execute_result"
    },
    {
     "data": {
      "image/png": "[encoded data removed]",
      "text/plain": [
       "<Figure size 432x288 with 1 Axes>"
      ]
     },
     "metadata": {
      "needs_background": "light"
     },
     "output_type": "display_data"
    }
   ],
   "source": [
    "df.view_count.hist()"
   ]
  },
  {
   "cell_type": "code",
   "execution_count": 11,
   "id": "f897a685",
   "metadata": {},
   "outputs": [
    {
     "data": {
      "text/plain": [
       "<AxesSubplot:>"
      ]
     },
     "execution_count": 11,
     "metadata": {},
     "output_type": "execute_result"
    },
    {
     "data": {
      "image/png": "[encoded data removed]",
      "text/plain": [
       "<Figure size 432x288 with 1 Axes>"
      ]
     },
     "metadata": {
      "needs_background": "light"
     },
     "output_type": "display_data"
    }
   ],
   "source": [
    "df.tag_count.hist()"
   ]
  },
  {
   "cell_type": "code",
   "execution_count": 12,
   "id": "61e903da",
   "metadata": {},
   "outputs": [
    {
     "data": {
      "text/plain": [
       "<AxesSubplot:>"
      ]
     },
     "execution_count": 12,
     "metadata": {},
     "output_type": "execute_result"
    },
    {
     "data": {
      "image/png": "[encoded data removed]",
      "text/plain": [
       "<Figure size 432x288 with 1 Axes>"
      ]
     },
     "metadata": {
      "needs_background": "light"
     },
     "output_type": "display_data"
    }
   ],
   "source": [
    "df.title_length.hist()"
   ]
  },
  {
   "cell_type": "code",
   "execution_count": 13,
   "id": "64f8b94b",
   "metadata": {},
   "outputs": [
    {
     "data": {
      "text/plain": [
       "<AxesSubplot:>"
      ]
     },
     "execution_count": 13,
     "metadata": {},
     "output_type": "execute_result"
    },
    {
     "data": {
      "image/png": "[encoded data removed]",
      "text/plain": [
       "<Figure size 432x288 with 1 Axes>"
      ]
     },
     "metadata": {
      "needs_background": "light"
     },
     "output_type": "display_data"
    }
   ],
   "source": [
    "df.comment_count.hist()"
   ]
  },
  {
   "cell_type": "code",
   "execution_count": 14,
   "id": "27ed2799",
   "metadata": {
    "scrolled": true
   },
   "outputs": [
    {
     "data": {
      "text/plain": [
       "<AxesSubplot:>"
      ]
     },
     "execution_count": 14,
     "metadata": {},
     "output_type": "execute_result"
    },
    {
     "data": {
      "image/png": "[encoded data removed]",
      "text/plain": [
       "<Figure size 432x288 with 1 Axes>"
      ]
     },
     "metadata": {
      "needs_background": "light"
     },
     "output_type": "display_data"
    }
   ],
   "source": [
    "df.title_uppercase.hist()"
   ]
  },
  {
   "cell_type": "code",
   "execution_count": 15,
   "id": "3b4e51d6",
   "metadata": {},
   "outputs": [
    {
     "data": {
      "text/plain": [
       "<AxesSubplot:>"
      ]
     },
     "execution_count": 15,
     "metadata": {},
     "output_type": "execute_result"
    },
    {
     "data": {
      "image/png": "[encoded data removed]",
      "text/plain": [
       "<Figure size 432x288 with 1 Axes>"
      ]
     },
     "metadata": {
      "needs_background": "light"
     },
     "output_type": "display_data"
    }
   ],
   "source": [
    "df.vid_desc_length.hist()"
   ]
  },
  {
   "cell_type": "code",
   "execution_count": 16,
   "id": "1e8cb1e7",
   "metadata": {},
   "outputs": [
    {
     "data": {
      "text/plain": [
       "<AxesSubplot:>"
      ]
     },
     "execution_count": 16,
     "metadata": {},
     "output_type": "execute_result"
    },
    {
     "data": {
      "image/png": "[encoded data removed]",
      "text/plain": [
       "<Figure size 432x288 with 1 Axes>"
      ]
     },
     "metadata": {
      "needs_background": "light"
     },
     "output_type": "display_data"
    }
   ],
   "source": [
    "df.boxplot(column=[\"tag_count\",\"title_length\",\"title_uppercase\"])"
   ]
  },
  {
   "cell_type": "code",
   "execution_count": 17,
   "id": "126b528a",
   "metadata": {},
   "outputs": [
    {
     "data": {
      "text/plain": [
       "<AxesSubplot:>"
      ]
     },
     "execution_count": 17,
     "metadata": {},
     "output_type": "execute_result"
    },
    {
     "data": {
      "image/png": "[encoded data removed]",
      "text/plain": [
       "<Figure size 432x288 with 1 Axes>"
      ]
     },
     "metadata": {
      "needs_background": "light"
     },
     "output_type": "display_data"
    }
   ],
   "source": [
    "df.boxplot(column=[\"view_count\"])"
   ]
  },
  {
   "cell_type": "code",
   "execution_count": 18,
   "id": "adca6c89",
   "metadata": {},
   "outputs": [
    {
     "data": {
      "text/plain": [
       "<AxesSubplot:>"
      ]
     },
     "execution_count": 18,
     "metadata": {},
     "output_type": "execute_result"
    },
    {
     "data": {
      "image/png": "[encoded data removed]",
      "text/plain": [
       "<Figure size 432x288 with 1 Axes>"
      ]
     },
     "metadata": {
      "needs_background": "light"
     },
     "output_type": "display_data"
    }
   ],
   "source": [
    "df.boxplot(column=[\"comment_count\"])"
   ]
  },
  {
   "cell_type": "code",
   "execution_count": 19,
   "id": "fe8704aa",
   "metadata": {},
   "outputs": [
    {
     "data": {
      "text/html": [
       "<div>\n",
       "<style scoped>\n",
       "    .dataframe tbody tr th:only-of-type {\n",
       "        vertical-align: middle;\n",
       "    }\n",
       "\n",
       "    .dataframe tbody tr th {\n",
       "        vertical-align: top;\n",
       "    }\n",
       "\n",
       "    .dataframe thead th {\n",
       "        text-align: right;\n",
       "    }\n",
       "</style>\n",
       "<table border=\"1\" class=\"dataframe\">\n",
       "  <thead>\n",
       "    <tr style=\"text-align: right;\">\n",
       "      <th></th>\n",
       "      <th>tag_count</th>\n",
       "      <th>title_length</th>\n",
       "      <th>title_uppercase</th>\n",
       "      <th>view_count</th>\n",
       "      <th>comment_count</th>\n",
       "    </tr>\n",
       "  </thead>\n",
       "  <tbody>\n",
       "    <tr>\n",
       "      <th>tag_count</th>\n",
       "      <td>1.000000</td>\n",
       "      <td>0.211330</td>\n",
       "      <td>0.176941</td>\n",
       "      <td>0.205768</td>\n",
       "      <td>0.055458</td>\n",
       "    </tr>\n",
       "    <tr>\n",
       "      <th>title_length</th>\n",
       "      <td>0.211330</td>\n",
       "      <td>1.000000</td>\n",
       "      <td>0.373038</td>\n",
       "      <td>-0.101113</td>\n",
       "      <td>-0.115719</td>\n",
       "    </tr>\n",
       "    <tr>\n",
       "      <th>title_uppercase</th>\n",
       "      <td>0.176941</td>\n",
       "      <td>0.373038</td>\n",
       "      <td>1.000000</td>\n",
       "      <td>0.011219</td>\n",
       "      <td>-0.011546</td>\n",
       "    </tr>\n",
       "    <tr>\n",
       "      <th>view_count</th>\n",
       "      <td>0.205768</td>\n",
       "      <td>-0.101113</td>\n",
       "      <td>0.011219</td>\n",
       "      <td>1.000000</td>\n",
       "      <td>0.606213</td>\n",
       "    </tr>\n",
       "    <tr>\n",
       "      <th>comment_count</th>\n",
       "      <td>0.055458</td>\n",
       "      <td>-0.115719</td>\n",
       "      <td>-0.011546</td>\n",
       "      <td>0.606213</td>\n",
       "      <td>1.000000</td>\n",
       "    </tr>\n",
       "  </tbody>\n",
       "</table>\n",
       "</div>"
      ],
      "text/plain": [
       "                 tag_count  title_length  title_uppercase  view_count  \\\n",
       "tag_count         1.000000      0.211330         0.176941    0.205768   \n",
       "title_length      0.211330      1.000000         0.373038   -0.101113   \n",
       "title_uppercase   0.176941      0.373038         1.000000    0.011219   \n",
       "view_count        0.205768     -0.101113         0.011219    1.000000   \n",
       "comment_count     0.055458     -0.115719        -0.011546    0.606213   \n",
       "\n",
       "                 comment_count  \n",
       "tag_count             0.055458  \n",
       "title_length         -0.115719  \n",
       "title_uppercase      -0.011546  \n",
       "view_count            0.606213  \n",
       "comment_count         1.000000  "
      ]
     },
     "execution_count": 19,
     "metadata": {},
     "output_type": "execute_result"
    }
   ],
   "source": [
    "df[[\"tag_count\",\"title_length\",\"title_uppercase\",\"view_count\",\"comment_count\"]].corr()"
   ]
  },
  {
   "cell_type": "code",
   "execution_count": 20,
   "id": "b8a43e41",
   "metadata": {},
   "outputs": [
    {
     "data": {
      "text/plain": [
       "<AxesSubplot:>"
      ]
     },
     "execution_count": 20,
     "metadata": {},
     "output_type": "execute_result"
    },
    {
     "data": {
      "image/png": "[encoded data removed]",
      "text/plain": [
       "<Figure size 432x288 with 2 Axes>"
      ]
     },
     "metadata": {
      "needs_background": "light"
     },
     "output_type": "display_data"
    }
   ],
   "source": [
    "cmap = sns.diverging_palette(230, 20, as_cmap=True)\n",
    "sns.heatmap(df[[\"tag_count\",\"title_length\",\"title_uppercase\",\"view_count\",\"comment_count\",\"vid_desc_length\"]].corr(),  vmax=.3, center=0,cmap=cmap,\n",
    "            square=True, linewidths=.5, cbar_kws={\"shrink\": .5})"
   ]
  },
  {
   "cell_type": "code",
   "execution_count": 21,
   "id": "d0f48b9d",
   "metadata": {},
   "outputs": [
    {
     "data": {
      "text/plain": [
       "Index(['title', 'channelTitle', 'categoryId', 'trending_date', 'tags',\n",
       "       'view_count', 'comment_count', 'comments_disabled', 'description',\n",
       "       'tag_count', 'title_length', 'title_uppercase', 'vid_desc_length'],\n",
       "      dtype='object')"
      ]
     },
     "execution_count": 21,
     "metadata": {},
     "output_type": "execute_result"
    }
   ],
   "source": [
    "df.columns"
   ]
  },
  {
   "cell_type": "code",
   "execution_count": 22,
   "id": "87e051db",
   "metadata": {},
   "outputs": [],
   "source": [
    "df_cat = df[[\"categoryId\",\"comments_disabled\",\"channelTitle\"]]"
   ]
  },
  {
   "cell_type": "code",
   "execution_count": 23,
   "id": "63c5530d",
   "metadata": {},
   "outputs": [
    {
     "data": {
      "image/png": "[encoded data removed]",
      "text/plain": [
       "<Figure size 432x288 with 1 Axes>"
      ]
     },
     "metadata": {
      "needs_background": "light"
     },
     "output_type": "display_data"
    },
    {
     "data": {
      "image/png": "[encoded data removed]",
      "text/plain": [
       "<Figure size 432x288 with 1 Axes>"
      ]
     },
     "metadata": {
      "needs_background": "light"
     },
     "output_type": "display_data"
    },
    {
     "data": {
      "image/png": "[encoded data removed]",
      "text/plain": [
       "<Figure size 432x288 with 1 Axes>"
      ]
     },
     "metadata": {
      "needs_background": "light"
     },
     "output_type": "display_data"
    }
   ],
   "source": [
    "for i in df_cat.columns:\n",
    "    cat_num = df_cat[i].value_counts()\n",
    "    sns.barplot(x=cat_num.index, y=cat_num)\n",
    "    plt.show()"
   ]
  },
  {
   "cell_type": "code",
   "execution_count": 24,
   "id": "29a64f44",
   "metadata": {},
   "outputs": [],
   "source": [
    "##top three categories' meanings\n",
    "#20 >> Gaming\n",
    "#24 >> Entertainment\n",
    "#10 >> Music"
   ]
  },
  {
   "cell_type": "code",
   "execution_count": 25,
   "id": "038e15d7",
   "metadata": {},
   "outputs": [
    {
     "data": {
      "image/png": "[encoded data removed]",
      "text/plain": [
       "<Figure size 432x288 with 1 Axes>"
      ]
     },
     "metadata": {
      "needs_background": "light"
     },
     "output_type": "display_data"
    }
   ],
   "source": [
    "chan_title_num = df_cat[\"channelTitle\"].value_counts()[:20]\n",
    "chart = sns.barplot(x=chan_title_num.index, y=chan_title_num)\n",
    "chart.set_xticklabels(chart.get_xticklabels(), rotation=90)\n",
    "plt.show()"
   ]
  },
  {
   "cell_type": "code",
   "execution_count": 26,
   "id": "082aa599",
   "metadata": {},
   "outputs": [],
   "source": [
    "## Only \"DAZN Boxing\" channel has 3 videos in trends\n",
    "## \"Apple, Chilly, STAYC, MLB, BWF TV\" has 2 videos.."
   ]
  },
  {
   "cell_type": "code",
   "execution_count": 54,
   "id": "c3d69c46",
   "metadata": {},
   "outputs": [],
   "source": [
    "pd.options.display.max_rows\n",
    "pd.set_option('display.max_rows', None)"
   ]
  },
  {
   "cell_type": "code",
   "execution_count": 56,
   "id": "25c5bbb1",
   "metadata": {},
   "outputs": [
    {
     "data": {
      "text/plain": [
       "0                            SaucySantanaVEVO\n",
       "1                                Apex Legends\n",
       "2                                       STAYC\n",
       "3                            KQ ENTERTAINMENT\n",
       "4                       Practical Engineering\n",
       "5                            Dead by Daylight\n",
       "6                                    Sky News\n",
       "7                                 Ben Azelart\n",
       "8      The Tonight Show Starring Jimmy Fallon\n",
       "9                              SuperHorrorBro\n",
       "10                                  Destiny 2\n",
       "11                                 Nick Eh 30\n",
       "12                                  Total War\n",
       "13                            Westen Champlin\n",
       "14                                       WTHR\n",
       "15                               Louie's Life\n",
       "16                                 MinuteTech\n",
       "17                                 deb smikle\n",
       "18                                        MTV\n",
       "19                                  Tom Scott\n",
       "20                                        J97\n",
       "21                         The Film Theorists\n",
       "22                             De'arra Taylor\n",
       "23                                        MLB\n",
       "24                                   Polyphia\n",
       "25                                        MLB\n",
       "26                                     Sample\n",
       "27                                The Bramfam\n",
       "28                   Amazon Prime Video Sport\n",
       "29                            CBS Los Angeles\n",
       "30                                  MK FAMILY\n",
       "31                               Jacob Geller\n",
       "32                                       P!NK\n",
       "33                              Dominic Brack\n",
       "34                                   Chizeled\n",
       "35                                Kodak Black\n",
       "36                                   Hoonigan\n",
       "37                                DAZN Boxing\n",
       "38                                    Sidemen\n",
       "39                                 FamilyFeud\n",
       "40                                 Gucci Mane\n",
       "41                           Pringus McDingus\n",
       "42                                    Settled\n",
       "43                                      Slogo\n",
       "44                NRL - National Rugby League\n",
       "45                                    Watcher\n",
       "46                                 KreekCraft\n",
       "47                                     Ho3ein\n",
       "48                               HeavyDSparks\n",
       "49                             Acre Homestead\n",
       "50                                 Cam Wilder\n",
       "51                                   NBC News\n",
       "52                         Cleetus2 McFarland\n",
       "53                              Garrett Watts\n",
       "54                                    rekrap2\n",
       "55                                 Latte ASMR\n",
       "56                              GameofThrones\n",
       "57                                     Chilly\n",
       "58                                DAZN Boxing\n",
       "59                           The United Stand\n",
       "60                         Ford Motor Company\n",
       "61                                  SoaR Milo\n",
       "62                                 Ballislife\n",
       "63                               Alter Bridge\n",
       "64                                Steve Mould\n",
       "65                             Paulina Torres\n",
       "66                                   Nintendo\n",
       "67                        Major League Soccer\n",
       "68                                        HBO\n",
       "69                                     Drumsy\n",
       "70                                  Flashgitz\n",
       "71                                   BamaBass\n",
       "72                             Danny Gonzalez\n",
       "73                       60 Minutes Australia\n",
       "74                          Simply Nailogical\n",
       "75                             The Ninja Fam!\n",
       "76                                  Amp World\n",
       "77                               Dude Perfect\n",
       "78                                PlayAdoptMe\n",
       "79                        Dylan Is In Trouble\n",
       "80                                Eamon & Bec\n",
       "81                               Golf Channel\n",
       "82                          Skip the Tutorial\n",
       "83                                      Apple\n",
       "84                               FC Barcelona\n",
       "85                         The Food Theorists\n",
       "86                                      Apple\n",
       "87                                  mrnigelng\n",
       "88                            Crispy Concords\n",
       "89                                jeffreestar\n",
       "90                                   The Open\n",
       "91                 Rudys Adventure and Design\n",
       "92                             SiimplyBubliie\n",
       "93                                   Lone Fox\n",
       "94                                        NBA\n",
       "95                                    Lachlan\n",
       "96                                AYO Fishing\n",
       "97                               SSSniperWolf\n",
       "98              England & Wales Cricket Board\n",
       "99                                       JStu\n",
       "100                     Chelsea Football Club\n",
       "101                            Modest Pelican\n",
       "102                                   ZackTTG\n",
       "103                                Sharmeleon\n",
       "104                                NBC Sports\n",
       "105                           YourRAGE Gaming\n",
       "106                                    Bazerk\n",
       "107                           Nintendo Mobile\n",
       "108                               Sofie Dossi\n",
       "109                                Saberspark\n",
       "110                                 Socksfor1\n",
       "111                             Fanatics View\n",
       "112                             Kara and Nate\n",
       "113                                      Brux\n",
       "114                  Matt's Off Road Recovery\n",
       "115                                     STAYC\n",
       "116                                       HoH\n",
       "117                        Pokémon Challenges\n",
       "118                               papajoolia \n",
       "119                       Gone with the Wynns\n",
       "120                                 SystemZee\n",
       "121                        Nathan Doan Comedy\n",
       "122                               Imbadkidjay\n",
       "123                            Princess Misty\n",
       "124                         Mother's Basement\n",
       "125                              kevingatesTV\n",
       "126                               BadKidMacei\n",
       "127                                TommyInnit\n",
       "128                            JxmyHighroller\n",
       "129                              Fight Hub TV\n",
       "130                            Manx Ninja Pig\n",
       "131                       theofficialGloRilla\n",
       "132                                  Overtime\n",
       "133                        Sturniolo Triplets\n",
       "134                              Anna McNulty\n",
       "135                             Mentour Pilot\n",
       "136                           DisneyMusicVEVO\n",
       "137                              Beast Reacts\n",
       "138                               HYBE LABELS\n",
       "139                                  Fab Rats\n",
       "140                                     Fundy\n",
       "141                                 itspaikon\n",
       "142                                    BWF TV\n",
       "143                              Bella Poarch\n",
       "144                           Sampson Boat Co\n",
       "145                                    SpaceX\n",
       "146                            RowdyRebelVEVO\n",
       "147                              Its Crystals\n",
       "148                              Toosii2xVEVO\n",
       "149                                  StarTalk\n",
       "150                          CalvinHarrisVEVO\n",
       "151                         JYP Entertainment\n",
       "152                             UNINTERRUPTED\n",
       "153                              TeamFourStar\n",
       "154                           Daniel Thrasher\n",
       "155                                FOX59 News\n",
       "156                                aCookieGod\n",
       "157                                     TODAY\n",
       "158                        CBS Sunday Morning\n",
       "159                               Reza Pishro\n",
       "160                              SacredBricks\n",
       "161                      Britain's Got Talent\n",
       "162                      SabrinaCarpenterVEVO\n",
       "163                                LegalEagle\n",
       "164                                  Anuel AA\n",
       "165                            Amazon Freevee\n",
       "166                                    BWF TV\n",
       "167                              PlayWarframe\n",
       "168                                  Almighty\n",
       "169                        The Game Theorists\n",
       "170                                BigWalkDog\n",
       "171                              PrestonPlayz\n",
       "172                                    Chilly\n",
       "173                           WalkerHayesVEVO\n",
       "174                  The Andrew Collette Show\n",
       "175                                   Vixella\n",
       "176                                 lilsimsie\n",
       "177              Overly Sarcastic Productions\n",
       "178                               DAZN Boxing\n",
       "179                            BuzzFeed Celeb\n",
       "180                               Prime Video\n",
       "181                              AlondraDessy\n",
       "182                          Evan and Katelyn\n",
       "183                             ShakeDown2012\n",
       "184                      EA SPORTS MADDEN NFL\n",
       "185                            DemiLovatoVEVO\n",
       "186                               Donut Media\n",
       "187                                SauceDatTV\n",
       "188                              NBC New York\n",
       "189                             Anthony & Ana\n",
       "190                                     Vogue\n",
       "191                                     Mongo\n",
       "192                         League of Legends\n",
       "193                                 JHE Rooga\n",
       "194                                 Disturbed\n",
       "195                  YouTube Culture & Trends\n",
       "196                             SciShow Space\n",
       "197                                       XXL\n",
       "198                                   Peloton\n",
       "199      TWICE JAPAN OFFICIAL YouTube Channel\n",
       "Name: channelTitle, dtype: object"
      ]
     },
     "execution_count": 56,
     "metadata": {},
     "output_type": "execute_result"
    }
   ],
   "source": [
    "df.channelTitle"
   ]
  },
  {
   "cell_type": "code",
   "execution_count": 59,
   "id": "2740538a",
   "metadata": {},
   "outputs": [
    {
     "data": {
      "text/html": [
       "<div>\n",
       "<style scoped>\n",
       "    .dataframe tbody tr th:only-of-type {\n",
       "        vertical-align: middle;\n",
       "    }\n",
       "\n",
       "    .dataframe tbody tr th {\n",
       "        vertical-align: top;\n",
       "    }\n",
       "\n",
       "    .dataframe thead th {\n",
       "        text-align: right;\n",
       "    }\n",
       "</style>\n",
       "<table border=\"1\" class=\"dataframe\">\n",
       "  <thead>\n",
       "    <tr style=\"text-align: right;\">\n",
       "      <th></th>\n",
       "      <th>title</th>\n",
       "      <th>channelTitle</th>\n",
       "      <th>categoryId</th>\n",
       "      <th>trending_date</th>\n",
       "      <th>tags</th>\n",
       "      <th>view_count</th>\n",
       "      <th>comment_count</th>\n",
       "      <th>comments_disabled</th>\n",
       "      <th>description</th>\n",
       "      <th>tag_count</th>\n",
       "      <th>title_length</th>\n",
       "      <th>title_uppercase</th>\n",
       "      <th>vid_desc_length</th>\n",
       "    </tr>\n",
       "  </thead>\n",
       "  <tbody>\n",
       "    <tr>\n",
       "      <th>2</th>\n",
       "      <td>STAYC(스테이씨) 'BEAUTIFUL MONSTER' MV</td>\n",
       "      <td>STAYC</td>\n",
       "      <td>24</td>\n",
       "      <td>22.20.07</td>\n",
       "      <td>STAYC|스테이씨|수민|배수민|시은|박시은|아이사|이채영|채영|세은|윤세은|심자윤...</td>\n",
       "      <td>12608289</td>\n",
       "      <td>19335</td>\n",
       "      <td>False</td>\n",
       "      <td>STAYC(스테이씨)  The 3rd Single Album[WE NEED LOVE...</td>\n",
       "      <td>26</td>\n",
       "      <td>34</td>\n",
       "      <td>23</td>\n",
       "      <td>619</td>\n",
       "    </tr>\n",
       "  </tbody>\n",
       "</table>\n",
       "</div>"
      ],
      "text/plain": [
       "                                title channelTitle  categoryId trending_date  \\\n",
       "2  STAYC(스테이씨) 'BEAUTIFUL MONSTER' MV        STAYC          24      22.20.07   \n",
       "\n",
       "                                                tags  view_count  \\\n",
       "2  STAYC|스테이씨|수민|배수민|시은|박시은|아이사|이채영|채영|세은|윤세은|심자윤...    12608289   \n",
       "\n",
       "   comment_count  comments_disabled  \\\n",
       "2          19335              False   \n",
       "\n",
       "                                         description  tag_count  title_length  \\\n",
       "2  STAYC(스테이씨)  The 3rd Single Album[WE NEED LOVE...         26            34   \n",
       "\n",
       "   title_uppercase  vid_desc_length  \n",
       "2               23              619  "
      ]
     },
     "execution_count": 59,
     "metadata": {},
     "output_type": "execute_result"
    }
   ],
   "source": [
    "position = 2,23,25,37,57,58,83,86,115,142,166,172,178\n",
    "label = 'channelTitle'\n",
    "\n",
    "df.loc[2:2]"
   ]
  },
  {
   "cell_type": "code",
   "execution_count": 106,
   "id": "6df92e40",
   "metadata": {},
   "outputs": [
    {
     "data": {
      "text/plain": [
       "Index(['title', 'channelTitle', 'categoryId', 'trending_date', 'tags',\n",
       "       'view_count', 'comment_count', 'comments_disabled', 'description',\n",
       "       'tag_count', 'title_length', 'title_uppercase', 'vid_desc_length'],\n",
       "      dtype='object')"
      ]
     },
     "execution_count": 106,
     "metadata": {},
     "output_type": "execute_result"
    }
   ],
   "source": [
    "df.columns"
   ]
  },
  {
   "cell_type": "code",
   "execution_count": 112,
   "id": "d2da59f6",
   "metadata": {},
   "outputs": [
    {
     "data": {
      "text/html": [
       "<div>\n",
       "<style scoped>\n",
       "    .dataframe tbody tr th:only-of-type {\n",
       "        vertical-align: middle;\n",
       "    }\n",
       "\n",
       "    .dataframe tbody tr th {\n",
       "        vertical-align: top;\n",
       "    }\n",
       "\n",
       "    .dataframe thead th {\n",
       "        text-align: right;\n",
       "    }\n",
       "</style>\n",
       "<table border=\"1\" class=\"dataframe\">\n",
       "  <thead>\n",
       "    <tr style=\"text-align: right;\">\n",
       "      <th></th>\n",
       "      <th>view_count</th>\n",
       "    </tr>\n",
       "    <tr>\n",
       "      <th>categoryId</th>\n",
       "      <th></th>\n",
       "    </tr>\n",
       "  </thead>\n",
       "  <tbody>\n",
       "    <tr>\n",
       "      <th>1</th>\n",
       "      <td>2.766404e+06</td>\n",
       "    </tr>\n",
       "    <tr>\n",
       "      <th>2</th>\n",
       "      <td>8.177359e+05</td>\n",
       "    </tr>\n",
       "    <tr>\n",
       "      <th>10</th>\n",
       "      <td>4.599105e+06</td>\n",
       "    </tr>\n",
       "    <tr>\n",
       "      <th>17</th>\n",
       "      <td>1.367100e+06</td>\n",
       "    </tr>\n",
       "    <tr>\n",
       "      <th>19</th>\n",
       "      <td>1.268793e+06</td>\n",
       "    </tr>\n",
       "    <tr>\n",
       "      <th>20</th>\n",
       "      <td>8.460080e+05</td>\n",
       "    </tr>\n",
       "    <tr>\n",
       "      <th>22</th>\n",
       "      <td>7.352001e+05</td>\n",
       "    </tr>\n",
       "    <tr>\n",
       "      <th>23</th>\n",
       "      <td>1.103565e+06</td>\n",
       "    </tr>\n",
       "    <tr>\n",
       "      <th>24</th>\n",
       "      <td>1.973624e+06</td>\n",
       "    </tr>\n",
       "    <tr>\n",
       "      <th>25</th>\n",
       "      <td>9.157046e+05</td>\n",
       "    </tr>\n",
       "    <tr>\n",
       "      <th>26</th>\n",
       "      <td>1.153323e+06</td>\n",
       "    </tr>\n",
       "    <tr>\n",
       "      <th>27</th>\n",
       "      <td>1.032372e+06</td>\n",
       "    </tr>\n",
       "    <tr>\n",
       "      <th>28</th>\n",
       "      <td>6.431532e+05</td>\n",
       "    </tr>\n",
       "  </tbody>\n",
       "</table>\n",
       "</div>"
      ],
      "text/plain": [
       "              view_count\n",
       "categoryId              \n",
       "1           2.766404e+06\n",
       "2           8.177359e+05\n",
       "10          4.599105e+06\n",
       "17          1.367100e+06\n",
       "19          1.268793e+06\n",
       "20          8.460080e+05\n",
       "22          7.352001e+05\n",
       "23          1.103565e+06\n",
       "24          1.973624e+06\n",
       "25          9.157046e+05\n",
       "26          1.153323e+06\n",
       "27          1.032372e+06\n",
       "28          6.431532e+05"
      ]
     },
     "execution_count": 112,
     "metadata": {},
     "output_type": "execute_result"
    }
   ],
   "source": [
    "pd.pivot_table(df, index=[\"categoryId\"], values=[\"view_count\"])"
   ]
  },
  {
   "cell_type": "code",
   "execution_count": 116,
   "id": "071a92fe",
   "metadata": {},
   "outputs": [
    {
     "data": {
      "text/plain": [
       "20    47\n",
       "24    33\n",
       "10    29\n",
       "17    26\n",
       "22    19\n",
       "23     8\n",
       "25     8\n",
       "2      7\n",
       "27     6\n",
       "1      5\n",
       "28     5\n",
       "19     4\n",
       "26     3\n",
       "Name: categoryId, dtype: int64"
      ]
     },
     "execution_count": 116,
     "metadata": {},
     "output_type": "execute_result"
    }
   ],
   "source": [
    "df.categoryId.value_counts()"
   ]
  },
  {
   "cell_type": "code",
   "execution_count": 114,
   "id": "257e4846",
   "metadata": {},
   "outputs": [
    {
     "data": {
      "text/html": [
       "<div>\n",
       "<style scoped>\n",
       "    .dataframe tbody tr th:only-of-type {\n",
       "        vertical-align: middle;\n",
       "    }\n",
       "\n",
       "    .dataframe tbody tr th {\n",
       "        vertical-align: top;\n",
       "    }\n",
       "\n",
       "    .dataframe thead th {\n",
       "        text-align: right;\n",
       "    }\n",
       "</style>\n",
       "<table border=\"1\" class=\"dataframe\">\n",
       "  <thead>\n",
       "    <tr style=\"text-align: right;\">\n",
       "      <th></th>\n",
       "      <th>view_count</th>\n",
       "    </tr>\n",
       "    <tr>\n",
       "      <th>comments_disabled</th>\n",
       "      <th></th>\n",
       "    </tr>\n",
       "  </thead>\n",
       "  <tbody>\n",
       "    <tr>\n",
       "      <th>False</th>\n",
       "      <td>1.731817e+06</td>\n",
       "    </tr>\n",
       "    <tr>\n",
       "      <th>True</th>\n",
       "      <td>7.461360e+05</td>\n",
       "    </tr>\n",
       "  </tbody>\n",
       "</table>\n",
       "</div>"
      ],
      "text/plain": [
       "                     view_count\n",
       "comments_disabled              \n",
       "False              1.731817e+06\n",
       "True               7.461360e+05"
      ]
     },
     "execution_count": 114,
     "metadata": {},
     "output_type": "execute_result"
    }
   ],
   "source": [
    "pd.pivot_table(df, index=[\"comments_disabled\"], values=[\"view_count\"])"
   ]
  },
  {
   "cell_type": "code",
   "execution_count": null,
   "id": "c6782495",
   "metadata": {},
   "outputs": [],
   "source": [
    "##more viewed videos are more likely to be comments disabled!!"
   ]
  },
  {
   "cell_type": "code",
   "execution_count": 1,
   "id": "ef1f15db",
   "metadata": {},
   "outputs": [],
   "source": [
    "from wordcloud import WordCloud, ImageColorGenerator, STOPWORDS\n",
    "from nltk.corpus import stopwords\n",
    "from nltk.tokenize import word_tokenize"
   ]
  },
  {
   "cell_type": "code",
   "execution_count": null,
   "id": "b08a52f9",
   "metadata": {},
   "outputs": [],
   "source": [
    "words = \" \".join(df['Job Description'])\n",
    "\n",
    "def punctuation_stop(text):\n",
    "    \"\"\"remove punctuation and stop words\"\"\"\n",
    "    filtered = []\n",
    "    stop_words = set(stopwords.words('english'))\n",
    "    word_tokens = word_tokenize(text)\n",
    "    for w in word_tokens:\n",
    "        if w not in stop_words and w.isalpha():\n",
    "            filtered.append(w.lower())\n",
    "    return filtered\n",
    "\n",
    "\n",
    "words_filtered = punctuation_stop(words)\n",
    "\n",
    "text = \" \".join([ele for ele in words_filtered])\n",
    "\n",
    "wc= WordCloud(background_color=\"white\", random_state=1,stopwords=STOPWORDS, max_words = 2000, width =800, height = 1500)\n",
    "wc.generate(text)\n",
    "\n",
    "plt.figure(figsize=[10,10])\n",
    "plt.imshow(interpolation=\"bilinear\")\n",
    "plt.axis('off')\n",
    "plt.show()"
   ]
  }
 ],
 "metadata": {
  "kernelspec": {
   "display_name": "Python 3",
   "language": "python",
   "name": "python3"
  },
  "language_info": {
   "codemirror_mode": {
    "name": "ipython",
    "version": 3
   },
   "file_extension": ".py",
   "mimetype": "text/x-python",
   "name": "python",
   "nbconvert_exporter": "python",
   "pygments_lexer": "ipython3",
   "version": "3.8.8"
  }
 },
 "nbformat": 4,
 "nbformat_minor": 5
}
